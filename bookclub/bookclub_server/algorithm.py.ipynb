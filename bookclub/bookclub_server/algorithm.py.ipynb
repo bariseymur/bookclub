{
 "cells": [
  {
   "cell_type": "code",
   "execution_count": 1,
   "metadata": {},
   "outputs": [],
   "source": [
    "import pandas as pd"
   ]
  },
  {
   "cell_type": "code",
   "execution_count": 2,
   "metadata": {},
   "outputs": [
    {
     "name": "stderr",
     "output_type": "stream",
     "text": [
      "b'Skipping line 23667: expected 6 fields, saw 9\\nSkipping line 31751: expected 6 fields, saw 7\\nSkipping line 72038: expected 6 fields, saw 7\\nSkipping line 84319: expected 6 fields, saw 7\\nSkipping line 101768: expected 6 fields, saw 7\\nSkipping line 124058: expected 6 fields, saw 7\\nSkipping line 130789: expected 6 fields, saw 7\\n'\n",
      "b'Skipping line 137128: expected 6 fields, saw 7\\nSkipping line 160189: expected 6 fields, saw 7\\nSkipping line 165738: expected 6 fields, saw 7\\nSkipping line 189388: expected 6 fields, saw 7\\nSkipping line 200625: expected 6 fields, saw 7\\nSkipping line 207930: expected 6 fields, saw 9\\nSkipping line 208954: expected 6 fields, saw 9\\nSkipping line 225930: expected 6 fields, saw 7\\nSkipping line 231293: expected 6 fields, saw 7\\nSkipping line 239938: expected 6 fields, saw 7\\nSkipping line 241526: expected 6 fields, saw 7\\n'\n"
     ]
    }
   ],
   "source": [
    "books = pd.read_csv('datasets/BX-Books.csv', sep=';', error_bad_lines=False, encoding='latin-1')"
   ]
  },
  {
   "cell_type": "code",
   "execution_count": 3,
   "metadata": {},
   "outputs": [
    {
     "data": {
      "text/plain": [
       "1508148"
      ]
     },
     "execution_count": 3,
     "metadata": {},
     "output_type": "execute_result"
    }
   ],
   "source": [
    "books.size"
   ]
  }
 ],
 "metadata": {
  "kernelspec": {
   "display_name": "Python 3",
   "language": "python",
   "name": "python3"
  },
  "language_info": {
   "codemirror_mode": {
    "name": "ipython",
    "version": 3
   },
   "file_extension": ".py",
   "mimetype": "text/x-python",
   "name": "python",
   "nbconvert_exporter": "python",
   "pygments_lexer": "ipython3",
   "version": "3.7.3"
  }
 },
 "nbformat": 4,
 "nbformat_minor": 2
}
